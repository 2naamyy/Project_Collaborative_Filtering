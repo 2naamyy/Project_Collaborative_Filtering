{
 "cells": [
  {
   "cell_type": "markdown",
   "metadata": {},
   "source": [
    "Nadia AHMED"
   ]
  },
  {
   "cell_type": "markdown",
   "metadata": {},
   "source": [
    "# RECHERCHE D'INFORMATION ET RECOMMANDATION"
   ]
  },
  {
   "cell_type": "markdown",
   "metadata": {},
   "source": [
    "## TD Collaborative Filtering"
   ]
  },
  {
   "cell_type": "markdown",
   "metadata": {},
   "source": [
    "### 1. Chargement des données"
   ]
  },
  {
   "cell_type": "code",
   "execution_count": 1,
   "metadata": {},
   "outputs": [],
   "source": [
    "import pandas as pd\n",
    "\n",
    "movies = pd.read_csv('movies.csv')\n",
    "ratings = pd.read_csv('ratings.csv')"
   ]
  },
  {
   "cell_type": "markdown",
   "metadata": {},
   "source": [
    "### 2. Création d'une matrice utilisateur-film"
   ]
  },
  {
   "cell_type": "code",
   "execution_count": 2,
   "metadata": {},
   "outputs": [],
   "source": [
    "user_movie_ratings = ratings.pivot_table(index='userId', columns='movieId', values='rating')"
   ]
  },
  {
   "cell_type": "markdown",
   "metadata": {},
   "source": [
    "### 3. Calcul de la similarité de Pearson entre les utilisateurs"
   ]
  },
  {
   "cell_type": "code",
   "execution_count": 3,
   "metadata": {},
   "outputs": [],
   "source": [
    "from scipy.stats import pearsonr\n",
    "\n",
    "def calculate_similarity(user1, user2):\n",
    "    common_movies = user_movie_ratings.loc[user1].dropna().index.intersection(user_movie_ratings.loc[user2].dropna().index)\n",
    "    if len(common_movies) < 2:\n",
    "        return 0  # Si pas assez de films en commun pour calculer la similarité\n",
    "    else:\n",
    "        corr, _ = pearsonr(user_movie_ratings.loc[user1][common_movies], user_movie_ratings.loc[user2][common_movies])\n",
    "        return corr"
   ]
  },
  {
   "cell_type": "markdown",
   "metadata": {},
   "source": [
    "### 4. Création d'une fonction de recommandation pour un utilisateur donné"
   ]
  },
  {
   "cell_type": "code",
   "execution_count": 4,
   "metadata": {},
   "outputs": [],
   "source": [
    "# Fonction de recommandation basée sur les utilisateurs\n",
    "def recommend_movies(user_id):\n",
    "    similar_users = []\n",
    "    for user in user_movie_ratings.index:\n",
    "        if user != user_id:\n",
    "            similarity = calculate_similarity(user_id, user)\n",
    "            similar_users.append((user, similarity))\n",
    "    similar_users.sort(key=lambda x: x[1], reverse=True)\n",
    "    \n",
    "    recommended_movies = []\n",
    "    for user, similarity in similar_users:\n",
    "        movies_watched_by_user = user_movie_ratings.loc[user].dropna().index\n",
    "        movies_not_watched_by_given_user = [movie for movie in movies_watched_by_user if movie not in user_movie_ratings.loc[user_id].dropna().index]\n",
    "        recommended_movies.extend(movies_not_watched_by_given_user)\n",
    "        if len(recommended_movies) >= 10:\n",
    "            break\n",
    "    \n",
    "    movie_titles = movies[movies['movieId'].isin(recommended_movies)]['title']\n",
    "    return movie_titles"
   ]
  },
  {
   "cell_type": "markdown",
   "metadata": {},
   "source": [
    "### 5. Recommandation de film pour un utilisateur donné (ici c'est pour l'utilisateur 8)"
   ]
  },
  {
   "cell_type": "code",
   "execution_count": 6,
   "metadata": {},
   "outputs": [
    {
     "name": "stdout",
     "output_type": "stream",
     "text": [
      "265                  Ready to Wear (Pret-A-Porter) (1994)\n",
      "879       Cook the Thief His Wife & Her Lover, The (1989)\n",
      "900     Raiders of the Lost Ark (Indiana Jones and the...\n",
      "1193                                 Event Horizon (1997)\n",
      "1219                          Seven Years in Tibet (1997)\n",
      "1231                                   Chasing Amy (1997)\n",
      "1291                                       Titanic (1997)\n",
      "1603                                Pretty in Pink (1986)\n",
      "1628                                   Beetlejuice (1988)\n",
      "1916                              Cruel Intentions (1999)\n",
      "1939                                   Matrix, The (1999)\n",
      "2477                                   Pitch Black (2000)\n",
      "2547                             Final Destination (2000)\n",
      "2627                           Rules of Engagement (2000)\n",
      "2674                                     Gladiator (2000)\n",
      "2701                                 Shanghai Noon (2000)\n",
      "2779                            Gone in 60 Seconds (2000)\n",
      "2808                                  Patriot, The (2000)\n",
      "2836                                         X-Men (2000)\n",
      "2840                             What Lies Beneath (2000)\n",
      "2861                                 Space Cowboys (2000)\n",
      "2888                                     Cell, The (2000)\n",
      "2903                                   Nurse Betty (2000)\n",
      "2907                                 Almost Famous (2000)\n",
      "2948                                Contender, The (2000)\n",
      "2966                              Charlie's Angels (2000)\n",
      "2983    Crouching Tiger, Hidden Dragon (Wo hu cang lon...\n",
      "2996                                        Snatch (2000)\n",
      "3090                                      Hannibal (2001)\n",
      "Name: title, dtype: object\n"
     ]
    }
   ],
   "source": [
    "user_id = 8\n",
    "recommended_movies = recommend_movies(user_id)\n",
    "print(recommended_movies)"
   ]
  },
  {
   "cell_type": "code",
   "execution_count": null,
   "metadata": {},
   "outputs": [],
   "source": []
  }
 ],
 "metadata": {
  "kernelspec": {
   "display_name": "Tp1",
   "language": "python",
   "name": "tp1"
  },
  "language_info": {
   "codemirror_mode": {
    "name": "ipython",
    "version": 3
   },
   "file_extension": ".py",
   "mimetype": "text/x-python",
   "name": "python",
   "nbconvert_exporter": "python",
   "pygments_lexer": "ipython3",
   "version": "3.9.13"
  }
 },
 "nbformat": 4,
 "nbformat_minor": 4
}
